{
 "cells": [
  {
   "cell_type": "markdown",
   "id": "9aa205c2",
   "metadata": {},
   "source": [
    "# ANSWER 1"
   ]
  },
  {
   "cell_type": "code",
   "execution_count": 1,
   "id": "5ea6a4b1",
   "metadata": {},
   "outputs": [],
   "source": [
    "import numpy as np\n",
    "import matplotlib.pyplot as plt\n",
    "import pandas as pd\n",
    "%matplotlib inline"
   ]
  },
  {
   "cell_type": "code",
   "execution_count": 2,
   "id": "a51c671c",
   "metadata": {},
   "outputs": [
    {
     "data": {
      "text/html": [
       "<div>\n",
       "<style scoped>\n",
       "    .dataframe tbody tr th:only-of-type {\n",
       "        vertical-align: middle;\n",
       "    }\n",
       "\n",
       "    .dataframe tbody tr th {\n",
       "        vertical-align: top;\n",
       "    }\n",
       "\n",
       "    .dataframe thead th {\n",
       "        text-align: right;\n",
       "    }\n",
       "</style>\n",
       "<table border=\"1\" class=\"dataframe\">\n",
       "  <thead>\n",
       "    <tr style=\"text-align: right;\">\n",
       "      <th></th>\n",
       "      <th>gmag</th>\n",
       "      <th>ra</th>\n",
       "      <th>dec</th>\n",
       "      <th>plx</th>\n",
       "      <th>bp_rp</th>\n",
       "      <th>lum_val</th>\n",
       "      <th>teff_val</th>\n",
       "      <th>radius_val</th>\n",
       "    </tr>\n",
       "  </thead>\n",
       "  <tbody>\n",
       "    <tr>\n",
       "      <th>0</th>\n",
       "      <td>15.684173</td>\n",
       "      <td>58.452096</td>\n",
       "      <td>23.485778</td>\n",
       "      <td>3.486630</td>\n",
       "      <td>2.192428</td>\n",
       "      <td>0.062333</td>\n",
       "      <td>3797.0000</td>\n",
       "      <td>0.576938</td>\n",
       "    </tr>\n",
       "    <tr>\n",
       "      <th>1</th>\n",
       "      <td>7.498167</td>\n",
       "      <td>55.930096</td>\n",
       "      <td>25.080502</td>\n",
       "      <td>8.027063</td>\n",
       "      <td>0.188913</td>\n",
       "      <td>NaN</td>\n",
       "      <td>8337.3330</td>\n",
       "      <td>NaN</td>\n",
       "    </tr>\n",
       "    <tr>\n",
       "      <th>2</th>\n",
       "      <td>16.102013</td>\n",
       "      <td>57.170842</td>\n",
       "      <td>23.237979</td>\n",
       "      <td>8.509836</td>\n",
       "      <td>3.116683</td>\n",
       "      <td>NaN</td>\n",
       "      <td>3838.1667</td>\n",
       "      <td>NaN</td>\n",
       "    </tr>\n",
       "    <tr>\n",
       "      <th>3</th>\n",
       "      <td>12.923352</td>\n",
       "      <td>56.999005</td>\n",
       "      <td>24.731093</td>\n",
       "      <td>6.493298</td>\n",
       "      <td>1.591153</td>\n",
       "      <td>0.156267</td>\n",
       "      <td>4456.1650</td>\n",
       "      <td>0.663230</td>\n",
       "    </tr>\n",
       "    <tr>\n",
       "      <th>4</th>\n",
       "      <td>16.454210</td>\n",
       "      <td>55.865759</td>\n",
       "      <td>24.270604</td>\n",
       "      <td>2.675075</td>\n",
       "      <td>2.346289</td>\n",
       "      <td>0.050944</td>\n",
       "      <td>3830.0100</td>\n",
       "      <td>0.512623</td>\n",
       "    </tr>\n",
       "  </tbody>\n",
       "</table>\n",
       "</div>"
      ],
      "text/plain": [
       "        gmag         ra        dec       plx     bp_rp   lum_val   teff_val  \\\n",
       "0  15.684173  58.452096  23.485778  3.486630  2.192428  0.062333  3797.0000   \n",
       "1   7.498167  55.930096  25.080502  8.027063  0.188913       NaN  8337.3330   \n",
       "2  16.102013  57.170842  23.237979  8.509836  3.116683       NaN  3838.1667   \n",
       "3  12.923352  56.999005  24.731093  6.493298  1.591153  0.156267  4456.1650   \n",
       "4  16.454210  55.865759  24.270604  2.675075  2.346289  0.050944  3830.0100   \n",
       "\n",
       "   radius_val  \n",
       "0    0.576938  \n",
       "1         NaN  \n",
       "2         NaN  \n",
       "3    0.663230  \n",
       "4    0.512623  "
      ]
     },
     "execution_count": 2,
     "metadata": {},
     "output_type": "execute_result"
    }
   ],
   "source": [
    "url_data=r'https://raw.githubusercontent.com/astroclubiitk/computational-astrophysics/main/Final-Project/Pleiades_Cluster.csv'\n",
    "df=pd.read_csv(url_data)\n",
    "df.head()"
   ]
  },
  {
   "cell_type": "code",
   "execution_count": 3,
   "id": "21a3d761",
   "metadata": {},
   "outputs": [
    {
     "name": "stdout",
     "output_type": "stream",
     "text": [
      "0      3.486630\n",
      "1      8.027063\n",
      "2      8.509836\n",
      "3      6.493298\n",
      "4      2.675075\n",
      "         ...   \n",
      "982    5.779793\n",
      "983    7.226433\n",
      "984    2.085063\n",
      "985    1.730391\n",
      "986    4.196960\n",
      "Name: plx, Length: 987, dtype: float64\n"
     ]
    }
   ],
   "source": [
    "plx=df.iloc[0:,3]\n",
    "print(plx)"
   ]
  },
  {
   "cell_type": "code",
   "execution_count": 4,
   "id": "e87d5cfb",
   "metadata": {},
   "outputs": [
    {
     "name": "stdout",
     "output_type": "stream",
     "text": [
      "0      2.457594\n",
      "1      2.095443\n",
      "2      2.070079\n",
      "3      2.187535\n",
      "4      2.572664\n",
      "         ...   \n",
      "982    2.238088\n",
      "983    2.141076\n",
      "984    2.680881\n",
      "985    2.761856\n",
      "986    2.377065\n",
      "Name: plx, Length: 987, dtype: float64\n"
     ]
    }
   ],
   "source": [
    "d=1000/plx\n",
    "l=np.log10(d)\n",
    "print(l)"
   ]
  },
  {
   "cell_type": "code",
   "execution_count": 5,
   "id": "c4704b33",
   "metadata": {},
   "outputs": [
    {
     "name": "stdout",
     "output_type": "stream",
     "text": [
      "0      15.684173\n",
      "1       7.498167\n",
      "2      16.102013\n",
      "3      12.923352\n",
      "4      16.454210\n",
      "         ...    \n",
      "982    11.852763\n",
      "983     8.186488\n",
      "984    15.502478\n",
      "985    17.422070\n",
      "986    11.906063\n",
      "Name: gmag, Length: 987, dtype: float64\n"
     ]
    }
   ],
   "source": [
    "m=df.iloc[0:,0]\n",
    "print(m)"
   ]
  },
  {
   "cell_type": "code",
   "execution_count": 6,
   "id": "7818de54",
   "metadata": {},
   "outputs": [
    {
     "name": "stdout",
     "output_type": "stream",
     "text": [
      "0       8.396202\n",
      "1       2.020950\n",
      "2      10.751619\n",
      "3       6.985679\n",
      "4       8.590890\n",
      "         ...    \n",
      "982     5.662324\n",
      "983     2.481108\n",
      "984     7.098074\n",
      "985     8.612791\n",
      "986     5.020737\n",
      "Length: 987, dtype: float64\n"
     ]
    }
   ],
   "source": [
    "M=m+5-5*l           #calculating absolute magnitude\n",
    "print(M)"
   ]
  },
  {
   "cell_type": "code",
   "execution_count": 7,
   "id": "ea70f6f7",
   "metadata": {},
   "outputs": [
    {
     "name": "stdout",
     "output_type": "stream",
     "text": [
      "136.24266048473115\n"
     ]
    }
   ],
   "source": [
    "z=d[np.logical_not(d>200)]\n",
    "print(np.mean(z))"
   ]
  },
  {
   "cell_type": "code",
   "execution_count": 8,
   "id": "92c4cf1b",
   "metadata": {},
   "outputs": [
    {
     "name": "stderr",
     "output_type": "stream",
     "text": [
      "C:\\Users\\nikit\\anaconda3\\Lib\\python\\lib\\site-packages\\seaborn\\distributions.py:2557: FutureWarning: `distplot` is a deprecated function and will be removed in a future version. Please adapt your code to use either `displot` (a figure-level function with similar flexibility) or `histplot` (an axes-level function for histograms).\n",
      "  warnings.warn(msg, FutureWarning)\n"
     ]
    },
    {
     "data": {
      "image/png": "[encoded data removed]",
      "text/plain": [
       "<Figure size 432x288 with 1 Axes>"
      ]
     },
     "metadata": {
      "needs_background": "light"
     },
     "output_type": "display_data"
    }
   ],
   "source": [
    "import seaborn as sns\n",
    "sns.distplot(d,hist=True)\n",
    "plt.show()"
   ]
  },
  {
   "cell_type": "markdown",
   "id": "7029f799",
   "metadata": {},
   "source": [
    "# ANSWER 2"
   ]
  },
  {
   "cell_type": "code",
   "execution_count": 9,
   "id": "7e874683",
   "metadata": {},
   "outputs": [
    {
     "name": "stdout",
     "output_type": "stream",
     "text": [
      "0     -1.450481\n",
      "1      1.099620\n",
      "2     -2.392648\n",
      "3     -0.886271\n",
      "4     -1.528356\n",
      "         ...   \n",
      "982   -0.356930\n",
      "983    0.915557\n",
      "984   -0.931230\n",
      "985   -1.537116\n",
      "986   -0.100295\n",
      "Length: 987, dtype: float64\n"
     ]
    }
   ],
   "source": [
    "x=(4.77-M)/2.5\n",
    "print(x)"
   ]
  },
  {
   "cell_type": "code",
   "execution_count": 10,
   "id": "a116ad6d",
   "metadata": {},
   "outputs": [
    {
     "name": "stdout",
     "output_type": "stream",
     "text": [
      "0       0.035442\n",
      "1      12.578243\n",
      "2       0.004049\n",
      "3       0.129936\n",
      "4       0.029624\n",
      "         ...    \n",
      "982     0.439613\n",
      "983     8.232975\n",
      "984     0.117158\n",
      "985     0.029032\n",
      "986     0.793789\n",
      "Length: 987, dtype: float64\n"
     ]
    }
   ],
   "source": [
    "y=10**x\n",
    "print(y)      #y=L/Lo which is comparable with lum_val "
   ]
  },
  {
   "cell_type": "code",
   "execution_count": 11,
   "id": "a94845f4",
   "metadata": {},
   "outputs": [
    {
     "name": "stdout",
     "output_type": "stream",
     "text": [
      "0      2.192428\n",
      "1      0.188913\n",
      "2      3.116683\n",
      "3      1.591153\n",
      "4      2.346289\n",
      "         ...   \n",
      "982    1.404244\n",
      "983    0.352915\n",
      "984    1.515169\n",
      "985    2.049238\n",
      "986    1.102659\n",
      "Name: bp_rp, Length: 987, dtype: float64\n"
     ]
    }
   ],
   "source": [
    "bp_rp=df.iloc[0:,4]\n",
    "print(bp_rp)"
   ]
  },
  {
   "cell_type": "code",
   "execution_count": 12,
   "id": "700892a5",
   "metadata": {},
   "outputs": [
    {
     "name": "stdout",
     "output_type": "stream",
     "text": [
      "0      1.893143\n",
      "1      0.701349\n",
      "2      2.322252\n",
      "3      1.586354\n",
      "4      1.967705\n",
      "         ...   \n",
      "982    1.484971\n",
      "983    0.826837\n",
      "984    1.545535\n",
      "985    1.822430\n",
      "986    1.313701\n",
      "Name: bp_rp, Length: 987, dtype: float64\n"
     ]
    }
   ],
   "source": [
    "p=(bp_rp+0.4)**0.67\n",
    "print(p)"
   ]
  },
  {
   "cell_type": "code",
   "execution_count": 13,
   "id": "dd3ad05f",
   "metadata": {},
   "outputs": [
    {
     "data": {
      "text/plain": [
       "0      2958.571887\n",
       "1      7986.033636\n",
       "2      2411.883430\n",
       "3      3530.737696\n",
       "4      2846.463540\n",
       "          ...     \n",
       "982    3771.791500\n",
       "983    6774.010474\n",
       "984    3623.988394\n",
       "985    3073.369566\n",
       "986    4263.527232\n",
       "Name: bp_rp, Length: 987, dtype: float64"
      ]
     },
     "execution_count": 13,
     "metadata": {},
     "output_type": "execute_result"
    }
   ],
   "source": [
    "Tk=5601/p\n",
    "Tk"
   ]
  },
  {
   "cell_type": "code",
   "execution_count": null,
   "id": "57d8cfc4",
   "metadata": {},
   "outputs": [],
   "source": []
  },
  {
   "cell_type": "markdown",
   "id": "f51148e0",
   "metadata": {},
   "source": [
    "# ANSWER 3"
   ]
  },
  {
   "cell_type": "code",
   "execution_count": 14,
   "id": "868b811b",
   "metadata": {},
   "outputs": [
    {
     "data": {
      "text/plain": [
       "array([16.244747, 15.649019, 15.795212, 16.354755, 16.078896],\n",
       "      dtype=float32)"
      ]
     },
     "execution_count": 14,
     "metadata": {},
     "output_type": "execute_result"
    }
   ],
   "source": [
    "brightness=np.max(m)-m\n",
    "brightness\n",
    "B=brightness.to_numpy(dtype ='float32')\n",
    "B1=np.extract(B<5, B)\n",
    "B2=np.extract(B>5, B)\n",
    "B3=np.extract(B>10, B)\n",
    "B4=np.extract(B>15,B)\n",
    "B4"
   ]
  },
  {
   "cell_type": "code",
   "execution_count": 15,
   "id": "656a8246",
   "metadata": {},
   "outputs": [
    {
     "data": {
      "text/html": [
       "<div>\n",
       "<style scoped>\n",
       "    .dataframe tbody tr th:only-of-type {\n",
       "        vertical-align: middle;\n",
       "    }\n",
       "\n",
       "    .dataframe tbody tr th {\n",
       "        vertical-align: top;\n",
       "    }\n",
       "\n",
       "    .dataframe thead th {\n",
       "        text-align: right;\n",
       "    }\n",
       "</style>\n",
       "<table border=\"1\" class=\"dataframe\">\n",
       "  <thead>\n",
       "    <tr style=\"text-align: right;\">\n",
       "      <th></th>\n",
       "      <th>gmag</th>\n",
       "      <th>ra</th>\n",
       "      <th>dec</th>\n",
       "      <th>plx</th>\n",
       "      <th>bp_rp</th>\n",
       "      <th>lum_val</th>\n",
       "      <th>teff_val</th>\n",
       "      <th>radius_val</th>\n",
       "    </tr>\n",
       "  </thead>\n",
       "  <tbody>\n",
       "    <tr>\n",
       "      <th>0</th>\n",
       "      <td>15.684173</td>\n",
       "      <td>58.452096</td>\n",
       "      <td>23.485778</td>\n",
       "      <td>3.486630</td>\n",
       "      <td>2.192428</td>\n",
       "      <td>0.062333</td>\n",
       "      <td>3797.0000</td>\n",
       "      <td>0.576938</td>\n",
       "    </tr>\n",
       "    <tr>\n",
       "      <th>1</th>\n",
       "      <td>7.498167</td>\n",
       "      <td>55.930096</td>\n",
       "      <td>25.080502</td>\n",
       "      <td>8.027063</td>\n",
       "      <td>0.188913</td>\n",
       "      <td>NaN</td>\n",
       "      <td>8337.3330</td>\n",
       "      <td>NaN</td>\n",
       "    </tr>\n",
       "    <tr>\n",
       "      <th>2</th>\n",
       "      <td>16.102013</td>\n",
       "      <td>57.170842</td>\n",
       "      <td>23.237979</td>\n",
       "      <td>8.509836</td>\n",
       "      <td>3.116683</td>\n",
       "      <td>NaN</td>\n",
       "      <td>3838.1667</td>\n",
       "      <td>NaN</td>\n",
       "    </tr>\n",
       "    <tr>\n",
       "      <th>3</th>\n",
       "      <td>12.923352</td>\n",
       "      <td>56.999005</td>\n",
       "      <td>24.731093</td>\n",
       "      <td>6.493298</td>\n",
       "      <td>1.591153</td>\n",
       "      <td>0.156267</td>\n",
       "      <td>4456.1650</td>\n",
       "      <td>0.663230</td>\n",
       "    </tr>\n",
       "    <tr>\n",
       "      <th>4</th>\n",
       "      <td>16.454210</td>\n",
       "      <td>55.865759</td>\n",
       "      <td>24.270604</td>\n",
       "      <td>2.675075</td>\n",
       "      <td>2.346289</td>\n",
       "      <td>0.050944</td>\n",
       "      <td>3830.0100</td>\n",
       "      <td>0.512623</td>\n",
       "    </tr>\n",
       "    <tr>\n",
       "      <th>...</th>\n",
       "      <td>...</td>\n",
       "      <td>...</td>\n",
       "      <td>...</td>\n",
       "      <td>...</td>\n",
       "      <td>...</td>\n",
       "      <td>...</td>\n",
       "      <td>...</td>\n",
       "      <td>...</td>\n",
       "    </tr>\n",
       "    <tr>\n",
       "      <th>982</th>\n",
       "      <td>11.852763</td>\n",
       "      <td>56.920869</td>\n",
       "      <td>22.929795</td>\n",
       "      <td>5.779793</td>\n",
       "      <td>1.404244</td>\n",
       "      <td>0.513834</td>\n",
       "      <td>4526.7550</td>\n",
       "      <td>1.165440</td>\n",
       "    </tr>\n",
       "    <tr>\n",
       "      <th>983</th>\n",
       "      <td>8.186488</td>\n",
       "      <td>55.930264</td>\n",
       "      <td>24.374396</td>\n",
       "      <td>7.226433</td>\n",
       "      <td>0.352915</td>\n",
       "      <td>7.839014</td>\n",
       "      <td>7963.1953</td>\n",
       "      <td>1.470986</td>\n",
       "    </tr>\n",
       "    <tr>\n",
       "      <th>984</th>\n",
       "      <td>15.502478</td>\n",
       "      <td>56.525937</td>\n",
       "      <td>25.112616</td>\n",
       "      <td>2.085063</td>\n",
       "      <td>1.515169</td>\n",
       "      <td>0.141687</td>\n",
       "      <td>4443.0000</td>\n",
       "      <td>0.635280</td>\n",
       "    </tr>\n",
       "    <tr>\n",
       "      <th>985</th>\n",
       "      <td>17.422070</td>\n",
       "      <td>57.441505</td>\n",
       "      <td>22.895388</td>\n",
       "      <td>1.730391</td>\n",
       "      <td>2.049238</td>\n",
       "      <td>NaN</td>\n",
       "      <td>NaN</td>\n",
       "      <td>NaN</td>\n",
       "    </tr>\n",
       "    <tr>\n",
       "      <th>986</th>\n",
       "      <td>11.906063</td>\n",
       "      <td>57.765432</td>\n",
       "      <td>22.840395</td>\n",
       "      <td>4.196960</td>\n",
       "      <td>1.102659</td>\n",
       "      <td>0.816104</td>\n",
       "      <td>4947.1800</td>\n",
       "      <td>1.229731</td>\n",
       "    </tr>\n",
       "  </tbody>\n",
       "</table>\n",
       "<p>987 rows × 8 columns</p>\n",
       "</div>"
      ],
      "text/plain": [
       "          gmag         ra        dec       plx     bp_rp   lum_val   teff_val  \\\n",
       "0    15.684173  58.452096  23.485778  3.486630  2.192428  0.062333  3797.0000   \n",
       "1     7.498167  55.930096  25.080502  8.027063  0.188913       NaN  8337.3330   \n",
       "2    16.102013  57.170842  23.237979  8.509836  3.116683       NaN  3838.1667   \n",
       "3    12.923352  56.999005  24.731093  6.493298  1.591153  0.156267  4456.1650   \n",
       "4    16.454210  55.865759  24.270604  2.675075  2.346289  0.050944  3830.0100   \n",
       "..         ...        ...        ...       ...       ...       ...        ...   \n",
       "982  11.852763  56.920869  22.929795  5.779793  1.404244  0.513834  4526.7550   \n",
       "983   8.186488  55.930264  24.374396  7.226433  0.352915  7.839014  7963.1953   \n",
       "984  15.502478  56.525937  25.112616  2.085063  1.515169  0.141687  4443.0000   \n",
       "985  17.422070  57.441505  22.895388  1.730391  2.049238       NaN        NaN   \n",
       "986  11.906063  57.765432  22.840395  4.196960  1.102659  0.816104  4947.1800   \n",
       "\n",
       "     radius_val  \n",
       "0      0.576938  \n",
       "1           NaN  \n",
       "2           NaN  \n",
       "3      0.663230  \n",
       "4      0.512623  \n",
       "..          ...  \n",
       "982    1.165440  \n",
       "983    1.470986  \n",
       "984    0.635280  \n",
       "985         NaN  \n",
       "986    1.229731  \n",
       "\n",
       "[987 rows x 8 columns]"
      ]
     },
     "execution_count": 15,
     "metadata": {},
     "output_type": "execute_result"
    }
   ],
   "source": [
    "df"
   ]
  },
  {
   "cell_type": "code",
   "execution_count": 17,
   "id": "aee67fbc",
   "metadata": {},
   "outputs": [
    {
     "data": {
      "text/html": [
       "<div>\n",
       "<style scoped>\n",
       "    .dataframe tbody tr th:only-of-type {\n",
       "        vertical-align: middle;\n",
       "    }\n",
       "\n",
       "    .dataframe tbody tr th {\n",
       "        vertical-align: top;\n",
       "    }\n",
       "\n",
       "    .dataframe thead th {\n",
       "        text-align: right;\n",
       "    }\n",
       "</style>\n",
       "<table border=\"1\" class=\"dataframe\">\n",
       "  <thead>\n",
       "    <tr style=\"text-align: right;\">\n",
       "      <th></th>\n",
       "      <th>gmag</th>\n",
       "      <th>ra</th>\n",
       "      <th>dec</th>\n",
       "      <th>plx</th>\n",
       "      <th>bp_rp</th>\n",
       "      <th>lum_val</th>\n",
       "      <th>teff_val</th>\n",
       "      <th>radius_val</th>\n",
       "      <th>Brightness</th>\n",
       "    </tr>\n",
       "  </thead>\n",
       "  <tbody>\n",
       "    <tr>\n",
       "      <th>0</th>\n",
       "      <td>15.684173</td>\n",
       "      <td>58.452096</td>\n",
       "      <td>23.485778</td>\n",
       "      <td>3.486630</td>\n",
       "      <td>2.192428</td>\n",
       "      <td>0.062333</td>\n",
       "      <td>3797.0000</td>\n",
       "      <td>0.576938</td>\n",
       "      <td>4.201813</td>\n",
       "    </tr>\n",
       "    <tr>\n",
       "      <th>1</th>\n",
       "      <td>7.498167</td>\n",
       "      <td>55.930096</td>\n",
       "      <td>25.080502</td>\n",
       "      <td>8.027063</td>\n",
       "      <td>0.188913</td>\n",
       "      <td>NaN</td>\n",
       "      <td>8337.3330</td>\n",
       "      <td>NaN</td>\n",
       "      <td>12.387819</td>\n",
       "    </tr>\n",
       "    <tr>\n",
       "      <th>2</th>\n",
       "      <td>16.102013</td>\n",
       "      <td>57.170842</td>\n",
       "      <td>23.237979</td>\n",
       "      <td>8.509836</td>\n",
       "      <td>3.116683</td>\n",
       "      <td>NaN</td>\n",
       "      <td>3838.1667</td>\n",
       "      <td>NaN</td>\n",
       "      <td>3.783973</td>\n",
       "    </tr>\n",
       "    <tr>\n",
       "      <th>3</th>\n",
       "      <td>12.923352</td>\n",
       "      <td>56.999005</td>\n",
       "      <td>24.731093</td>\n",
       "      <td>6.493298</td>\n",
       "      <td>1.591153</td>\n",
       "      <td>0.156267</td>\n",
       "      <td>4456.1650</td>\n",
       "      <td>0.663230</td>\n",
       "      <td>6.962634</td>\n",
       "    </tr>\n",
       "    <tr>\n",
       "      <th>4</th>\n",
       "      <td>16.454210</td>\n",
       "      <td>55.865759</td>\n",
       "      <td>24.270604</td>\n",
       "      <td>2.675075</td>\n",
       "      <td>2.346289</td>\n",
       "      <td>0.050944</td>\n",
       "      <td>3830.0100</td>\n",
       "      <td>0.512623</td>\n",
       "      <td>3.431776</td>\n",
       "    </tr>\n",
       "    <tr>\n",
       "      <th>...</th>\n",
       "      <td>...</td>\n",
       "      <td>...</td>\n",
       "      <td>...</td>\n",
       "      <td>...</td>\n",
       "      <td>...</td>\n",
       "      <td>...</td>\n",
       "      <td>...</td>\n",
       "      <td>...</td>\n",
       "      <td>...</td>\n",
       "    </tr>\n",
       "    <tr>\n",
       "      <th>982</th>\n",
       "      <td>11.852763</td>\n",
       "      <td>56.920869</td>\n",
       "      <td>22.929795</td>\n",
       "      <td>5.779793</td>\n",
       "      <td>1.404244</td>\n",
       "      <td>0.513834</td>\n",
       "      <td>4526.7550</td>\n",
       "      <td>1.165440</td>\n",
       "      <td>8.033223</td>\n",
       "    </tr>\n",
       "    <tr>\n",
       "      <th>983</th>\n",
       "      <td>8.186488</td>\n",
       "      <td>55.930264</td>\n",
       "      <td>24.374396</td>\n",
       "      <td>7.226433</td>\n",
       "      <td>0.352915</td>\n",
       "      <td>7.839014</td>\n",
       "      <td>7963.1953</td>\n",
       "      <td>1.470986</td>\n",
       "      <td>11.699498</td>\n",
       "    </tr>\n",
       "    <tr>\n",
       "      <th>984</th>\n",
       "      <td>15.502478</td>\n",
       "      <td>56.525937</td>\n",
       "      <td>25.112616</td>\n",
       "      <td>2.085063</td>\n",
       "      <td>1.515169</td>\n",
       "      <td>0.141687</td>\n",
       "      <td>4443.0000</td>\n",
       "      <td>0.635280</td>\n",
       "      <td>4.383508</td>\n",
       "    </tr>\n",
       "    <tr>\n",
       "      <th>985</th>\n",
       "      <td>17.422070</td>\n",
       "      <td>57.441505</td>\n",
       "      <td>22.895388</td>\n",
       "      <td>1.730391</td>\n",
       "      <td>2.049238</td>\n",
       "      <td>NaN</td>\n",
       "      <td>NaN</td>\n",
       "      <td>NaN</td>\n",
       "      <td>2.463916</td>\n",
       "    </tr>\n",
       "    <tr>\n",
       "      <th>986</th>\n",
       "      <td>11.906063</td>\n",
       "      <td>57.765432</td>\n",
       "      <td>22.840395</td>\n",
       "      <td>4.196960</td>\n",
       "      <td>1.102659</td>\n",
       "      <td>0.816104</td>\n",
       "      <td>4947.1800</td>\n",
       "      <td>1.229731</td>\n",
       "      <td>7.979923</td>\n",
       "    </tr>\n",
       "  </tbody>\n",
       "</table>\n",
       "<p>987 rows × 9 columns</p>\n",
       "</div>"
      ],
      "text/plain": [
       "          gmag         ra        dec       plx     bp_rp   lum_val   teff_val  \\\n",
       "0    15.684173  58.452096  23.485778  3.486630  2.192428  0.062333  3797.0000   \n",
       "1     7.498167  55.930096  25.080502  8.027063  0.188913       NaN  8337.3330   \n",
       "2    16.102013  57.170842  23.237979  8.509836  3.116683       NaN  3838.1667   \n",
       "3    12.923352  56.999005  24.731093  6.493298  1.591153  0.156267  4456.1650   \n",
       "4    16.454210  55.865759  24.270604  2.675075  2.346289  0.050944  3830.0100   \n",
       "..         ...        ...        ...       ...       ...       ...        ...   \n",
       "982  11.852763  56.920869  22.929795  5.779793  1.404244  0.513834  4526.7550   \n",
       "983   8.186488  55.930264  24.374396  7.226433  0.352915  7.839014  7963.1953   \n",
       "984  15.502478  56.525937  25.112616  2.085063  1.515169  0.141687  4443.0000   \n",
       "985  17.422070  57.441505  22.895388  1.730391  2.049238       NaN        NaN   \n",
       "986  11.906063  57.765432  22.840395  4.196960  1.102659  0.816104  4947.1800   \n",
       "\n",
       "     radius_val  Brightness  \n",
       "0      0.576938    4.201813  \n",
       "1           NaN   12.387819  \n",
       "2           NaN    3.783973  \n",
       "3      0.663230    6.962634  \n",
       "4      0.512623    3.431776  \n",
       "..          ...         ...  \n",
       "982    1.165440    8.033223  \n",
       "983    1.470986   11.699498  \n",
       "984    0.635280    4.383508  \n",
       "985         NaN    2.463916  \n",
       "986    1.229731    7.979923  \n",
       "\n",
       "[987 rows x 9 columns]"
      ]
     },
     "execution_count": 17,
     "metadata": {},
     "output_type": "execute_result"
    }
   ],
   "source": [
    "df.insert(8,'Brightness',B,allow_duplicates=False)\n",
    "df"
   ]
  },
  {
   "cell_type": "code",
   "execution_count": 20,
   "id": "6d1f868a",
   "metadata": {},
   "outputs": [
    {
     "data": {
      "text/plain": [
       "Text(0.5, 1.0, 'Plotting Stars')"
      ]
     },
     "execution_count": 20,
     "metadata": {},
     "output_type": "execute_result"
    },
    {
     "data": {
      "image/png": "[encoded data removed]",
      "text/plain": [
       "<Figure size 1440x648 with 1 Axes>"
      ]
     },
     "metadata": {
      "needs_background": "light"
     },
     "output_type": "display_data"
    }
   ],
   "source": [
    "fig=plt.figure(figsize=(20,9))\n",
    "Figure=fig.add_subplot(121,facecolor='black')\n",
    "B1=df[df.Brightness<5]\n",
    "Figure.scatter(B1['ra'],B1['dec'],s=5,c='pink',label='Brightness<5')\n",
    "B2=df[df.Brightness>5]\n",
    "Figure.scatter(B2['ra'],B2['dec'],s=9,c='blue',label='Brightness>5')\n",
    "B3=df[df.Brightness>10]\n",
    "Figure.scatter(B3['ra'],B3['dec'],s=13,c='yellow',label='Brightness>10')\n",
    "B4=df[df.Brightness>15]\n",
    "Figure.scatter(B4['ra'],B4['dec'],s=20,c='red',label='Brightness>15')\n",
    "plt.legend(loc=2)\n",
    "Figure.set_xlabel(\"RA\")\n",
    "Figure.set_ylabel(\"DEC\")\n",
    "Figure.set_title(\"Plotting Stars\")\n"
   ]
  },
  {
   "cell_type": "markdown",
   "id": "779f970b",
   "metadata": {},
   "source": [
    "# ANSWER 4"
   ]
  },
  {
   "cell_type": "code",
   "execution_count": 55,
   "id": "4e2d50e2",
   "metadata": {},
   "outputs": [
    {
     "data": {
      "text/html": [
       "<div>\n",
       "<style scoped>\n",
       "    .dataframe tbody tr th:only-of-type {\n",
       "        vertical-align: middle;\n",
       "    }\n",
       "\n",
       "    .dataframe tbody tr th {\n",
       "        vertical-align: top;\n",
       "    }\n",
       "\n",
       "    .dataframe thead th {\n",
       "        text-align: right;\n",
       "    }\n",
       "</style>\n",
       "<table border=\"1\" class=\"dataframe\">\n",
       "  <thead>\n",
       "    <tr style=\"text-align: right;\">\n",
       "      <th></th>\n",
       "      <th>gmag</th>\n",
       "      <th>ra</th>\n",
       "      <th>dec</th>\n",
       "      <th>plx</th>\n",
       "      <th>bp_rp</th>\n",
       "      <th>lum_val</th>\n",
       "      <th>teff_val</th>\n",
       "      <th>radius_val</th>\n",
       "      <th>Brightness</th>\n",
       "      <th>Absolute Magnitude</th>\n",
       "    </tr>\n",
       "  </thead>\n",
       "  <tbody>\n",
       "    <tr>\n",
       "      <th>0</th>\n",
       "      <td>15.684173</td>\n",
       "      <td>58.452096</td>\n",
       "      <td>23.485778</td>\n",
       "      <td>3.486630</td>\n",
       "      <td>2.192428</td>\n",
       "      <td>0.062333</td>\n",
       "      <td>3797.0000</td>\n",
       "      <td>0.576938</td>\n",
       "      <td>4.201813</td>\n",
       "      <td>8.396202</td>\n",
       "    </tr>\n",
       "    <tr>\n",
       "      <th>1</th>\n",
       "      <td>7.498167</td>\n",
       "      <td>55.930096</td>\n",
       "      <td>25.080502</td>\n",
       "      <td>8.027063</td>\n",
       "      <td>0.188913</td>\n",
       "      <td>NaN</td>\n",
       "      <td>8337.3330</td>\n",
       "      <td>NaN</td>\n",
       "      <td>12.387819</td>\n",
       "      <td>2.020950</td>\n",
       "    </tr>\n",
       "    <tr>\n",
       "      <th>2</th>\n",
       "      <td>16.102013</td>\n",
       "      <td>57.170842</td>\n",
       "      <td>23.237979</td>\n",
       "      <td>8.509836</td>\n",
       "      <td>3.116683</td>\n",
       "      <td>NaN</td>\n",
       "      <td>3838.1667</td>\n",
       "      <td>NaN</td>\n",
       "      <td>3.783973</td>\n",
       "      <td>10.751619</td>\n",
       "    </tr>\n",
       "    <tr>\n",
       "      <th>3</th>\n",
       "      <td>12.923352</td>\n",
       "      <td>56.999005</td>\n",
       "      <td>24.731093</td>\n",
       "      <td>6.493298</td>\n",
       "      <td>1.591153</td>\n",
       "      <td>0.156267</td>\n",
       "      <td>4456.1650</td>\n",
       "      <td>0.663230</td>\n",
       "      <td>6.962634</td>\n",
       "      <td>6.985679</td>\n",
       "    </tr>\n",
       "    <tr>\n",
       "      <th>4</th>\n",
       "      <td>16.454210</td>\n",
       "      <td>55.865759</td>\n",
       "      <td>24.270604</td>\n",
       "      <td>2.675075</td>\n",
       "      <td>2.346289</td>\n",
       "      <td>0.050944</td>\n",
       "      <td>3830.0100</td>\n",
       "      <td>0.512623</td>\n",
       "      <td>3.431776</td>\n",
       "      <td>8.590890</td>\n",
       "    </tr>\n",
       "    <tr>\n",
       "      <th>...</th>\n",
       "      <td>...</td>\n",
       "      <td>...</td>\n",
       "      <td>...</td>\n",
       "      <td>...</td>\n",
       "      <td>...</td>\n",
       "      <td>...</td>\n",
       "      <td>...</td>\n",
       "      <td>...</td>\n",
       "      <td>...</td>\n",
       "      <td>...</td>\n",
       "    </tr>\n",
       "    <tr>\n",
       "      <th>982</th>\n",
       "      <td>11.852763</td>\n",
       "      <td>56.920869</td>\n",
       "      <td>22.929795</td>\n",
       "      <td>5.779793</td>\n",
       "      <td>1.404244</td>\n",
       "      <td>0.513834</td>\n",
       "      <td>4526.7550</td>\n",
       "      <td>1.165440</td>\n",
       "      <td>8.033223</td>\n",
       "      <td>5.662324</td>\n",
       "    </tr>\n",
       "    <tr>\n",
       "      <th>983</th>\n",
       "      <td>8.186488</td>\n",
       "      <td>55.930264</td>\n",
       "      <td>24.374396</td>\n",
       "      <td>7.226433</td>\n",
       "      <td>0.352915</td>\n",
       "      <td>7.839014</td>\n",
       "      <td>7963.1953</td>\n",
       "      <td>1.470986</td>\n",
       "      <td>11.699498</td>\n",
       "      <td>2.481108</td>\n",
       "    </tr>\n",
       "    <tr>\n",
       "      <th>984</th>\n",
       "      <td>15.502478</td>\n",
       "      <td>56.525937</td>\n",
       "      <td>25.112616</td>\n",
       "      <td>2.085063</td>\n",
       "      <td>1.515169</td>\n",
       "      <td>0.141687</td>\n",
       "      <td>4443.0000</td>\n",
       "      <td>0.635280</td>\n",
       "      <td>4.383508</td>\n",
       "      <td>7.098074</td>\n",
       "    </tr>\n",
       "    <tr>\n",
       "      <th>985</th>\n",
       "      <td>17.422070</td>\n",
       "      <td>57.441505</td>\n",
       "      <td>22.895388</td>\n",
       "      <td>1.730391</td>\n",
       "      <td>2.049238</td>\n",
       "      <td>NaN</td>\n",
       "      <td>NaN</td>\n",
       "      <td>NaN</td>\n",
       "      <td>2.463916</td>\n",
       "      <td>8.612791</td>\n",
       "    </tr>\n",
       "    <tr>\n",
       "      <th>986</th>\n",
       "      <td>11.906063</td>\n",
       "      <td>57.765432</td>\n",
       "      <td>22.840395</td>\n",
       "      <td>4.196960</td>\n",
       "      <td>1.102659</td>\n",
       "      <td>0.816104</td>\n",
       "      <td>4947.1800</td>\n",
       "      <td>1.229731</td>\n",
       "      <td>7.979923</td>\n",
       "      <td>5.020737</td>\n",
       "    </tr>\n",
       "  </tbody>\n",
       "</table>\n",
       "<p>987 rows × 10 columns</p>\n",
       "</div>"
      ],
      "text/plain": [
       "          gmag         ra        dec       plx     bp_rp   lum_val   teff_val  \\\n",
       "0    15.684173  58.452096  23.485778  3.486630  2.192428  0.062333  3797.0000   \n",
       "1     7.498167  55.930096  25.080502  8.027063  0.188913       NaN  8337.3330   \n",
       "2    16.102013  57.170842  23.237979  8.509836  3.116683       NaN  3838.1667   \n",
       "3    12.923352  56.999005  24.731093  6.493298  1.591153  0.156267  4456.1650   \n",
       "4    16.454210  55.865759  24.270604  2.675075  2.346289  0.050944  3830.0100   \n",
       "..         ...        ...        ...       ...       ...       ...        ...   \n",
       "982  11.852763  56.920869  22.929795  5.779793  1.404244  0.513834  4526.7550   \n",
       "983   8.186488  55.930264  24.374396  7.226433  0.352915  7.839014  7963.1953   \n",
       "984  15.502478  56.525937  25.112616  2.085063  1.515169  0.141687  4443.0000   \n",
       "985  17.422070  57.441505  22.895388  1.730391  2.049238       NaN        NaN   \n",
       "986  11.906063  57.765432  22.840395  4.196960  1.102659  0.816104  4947.1800   \n",
       "\n",
       "     radius_val  Brightness  Absolute Magnitude  \n",
       "0      0.576938    4.201813            8.396202  \n",
       "1           NaN   12.387819            2.020950  \n",
       "2           NaN    3.783973           10.751619  \n",
       "3      0.663230    6.962634            6.985679  \n",
       "4      0.512623    3.431776            8.590890  \n",
       "..          ...         ...                 ...  \n",
       "982    1.165440    8.033223            5.662324  \n",
       "983    1.470986   11.699498            2.481108  \n",
       "984    0.635280    4.383508            7.098074  \n",
       "985         NaN    2.463916            8.612791  \n",
       "986    1.229731    7.979923            5.020737  \n",
       "\n",
       "[987 rows x 10 columns]"
      ]
     },
     "execution_count": 55,
     "metadata": {},
     "output_type": "execute_result"
    }
   ],
   "source": [
    "bp_rp==df.iloc[0:,4]\n",
    "colorplot=bp_rp.to_numpy(dtype ='float32')\n",
    "AbsMag=M.to_numpy(dtype ='float32')\n",
    "df"
   ]
  },
  {
   "cell_type": "code",
   "execution_count": 86,
   "id": "c5a14056",
   "metadata": {},
   "outputs": [
    {
     "data": {
      "image/png": "[encoded data removed]",
      "text/plain": [
       "<Figure size 720x576 with 1 Axes>"
      ]
     },
     "metadata": {
      "needs_background": "light"
     },
     "output_type": "display_data"
    }
   ],
   "source": [
    "plt.figure(figsize=(10,8))\n",
    "plt.scatter(colorplot,AbsMag,s=5,c='midnightblue')\n",
    "plt.annotate('Turn-off point',xy=(0.5,2.8),xytext=(1,2.3),arrowprops = dict(width=2,facecolor ='black',shrink = 0.05),fontsize=14,color='black')\n",
    "plt.xlabel('color plot(bp_rp)')\n",
    "plt.ylabel('Absolute Magnitude')\n",
    "plt.gca().invert_yaxis()\n",
    "plt.title('HR Diagram')\n",
    "plt.grid()"
   ]
  },
  {
   "cell_type": "code",
   "execution_count": null,
   "id": "529a0697",
   "metadata": {},
   "outputs": [],
   "source": []
  }
 ],
 "metadata": {
  "kernelspec": {
   "display_name": "Python 3",
   "language": "python",
   "name": "python3"
  },
  "language_info": {
   "codemirror_mode": {
    "name": "ipython",
    "version": 3
   },
   "file_extension": ".py",
   "mimetype": "text/x-python",
   "name": "python",
   "nbconvert_exporter": "python",
   "pygments_lexer": "ipython3",
   "version": "3.8.8"
  }
 },
 "nbformat": 4,
 "nbformat_minor": 5
}
